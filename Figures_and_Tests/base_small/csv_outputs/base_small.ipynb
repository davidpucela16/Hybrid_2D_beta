{
 "cells": [
  {
   "cell_type": "code",
   "execution_count": 29,
   "metadata": {},
   "outputs": [
    {
     "name": "stdout",
     "output_type": "stream",
     "text": [
      "range cells= [ 3  4  5  6  7  8  9 10 11 12 13 14 15 16 17 18 19 20 21 22 23 24 25]\n",
      "[16.66666667 12.5        10.          8.33333333  7.14285714  6.25\n",
      "  5.55555556  5.          4.54545455  4.16666667  3.84615385  3.57142857\n",
      "  3.33333333  3.125       2.94117647  2.77777778  2.63157895  2.5\n",
      "  2.38095238  2.27272727  2.17391304  2.08333333  2.        ]\n"
     ]
    }
   ],
   "source": [
    "import numpy as np\n",
    "import matplotlib.pyplot as plt\n",
    "\n",
    "import os \n",
    "import pandas as pd\n",
    "import pdb\n",
    "\n",
    "import matplotlib.pyplot as plt\n",
    "import matplotlib.pylab as pylab\n",
    "params = {'legend.fontsize': 'x-large',\n",
    "          'figure.figsize': (8,8),\n",
    "         'axes.labelsize': 'x-large',\n",
    "         'axes.titlesize':'x-large',\n",
    "         'xtick.labelsize':'x-large',\n",
    "         'ytick.labelsize':'x-large'}\n",
    "%matplotlib inline\n",
    "pylab.rcParams.update(params)\n",
    "#Define Computer\n",
    "Malphigui=1\n",
    "if Malphigui:\n",
    "    directory='/home/pdavid/Bureau/Hybrid_2D_beta/Code' #Malpighi\n",
    "    directory_script='/home/pdavid/Bureau/Hybrid_2D_beta/Figures_and_Tests/base_small'\n",
    "else: #Auto_58\n",
    "    directory='/home/pdavid/Bureau/Hybrid_2D_beta/Code/'\n",
    "    directory_script='/home/pdavid/Bureau/Hybrid_2D_beta/Figures_and_Tests/base_small'\n",
    "    \n",
    "    \n",
    "os.chdir(directory)\n",
    "csv_directory=directory_script+'/csv_outputs'\n",
    "from Testing import extract_COMSOL_data\n",
    "\n",
    "COMSOL_lin_dir=directory_script + '/COMSOL_output/linear'\n",
    "COMSOL_metab_dir=directory_script + '/COMSOL_output/metab'\n",
    "\n",
    "array_of_cells=np.squeeze(pd.read_csv(csv_directory + '/array_of_cells.csv').to_numpy())\n",
    "print('range cells=',array_of_cells)\n",
    "\n",
    "alpha=50\n",
    "\n",
    "h=alpha/array_of_cells\n",
    "print(h)\n",
    "\n",
    "#Only for the odds (since the source is in hte center)\n",
    "indexes=np.array([], dtype=int)\n",
    "for i in range(len(array_of_cells)):\n",
    "    if array_of_cells[i]%2:\n",
    "        indexes=np.append(indexes, i)"
   ]
  },
  {
   "cell_type": "code",
   "execution_count": 30,
   "metadata": {},
   "outputs": [
    {
     "name": "stdout",
     "output_type": "stream",
     "text": [
      "YOU ARE IN MALPHIGUI\n",
      "Directory script:  /home/pdavid/Bureau/Hybrid_2D_beta/Figures_and_Tests/base_small\n",
      "COMSOL_lin_dir:  /home/pdavid/Bureau/Hybrid_2D_beta/Figures_and_Tests/base_small/COMSOL_output/linear\n",
      "csv_directory:  /home/pdavid/Bureau/Hybrid_2D_beta/Figures_and_Tests/base_small/csv_outputs\n"
     ]
    }
   ],
   "source": [
    "if Malphigui: print(\"YOU ARE IN MALPHIGUI\")\n",
    "print(\"Directory script: \", directory_script)\n",
    "print(\"COMSOL_lin_dir: \", COMSOL_lin_dir)\n",
    "print(\"csv_directory: \", csv_directory)"
   ]
  },
  {
   "cell_type": "code",
   "execution_count": 31,
   "metadata": {},
   "outputs": [
    {
     "name": "stdout",
     "output_type": "stream",
     "text": [
      "[ 0  2  4  6  8 10 12 14 16 18 20 22]\n",
      "[ 3  5  7  9 11 13 15 17 19 21 23 25]\n"
     ]
    }
   ],
   "source": [
    "print(indexes)\n",
    "print(array_of_cells[indexes])"
   ]
  },
  {
   "cell_type": "code",
   "execution_count": 32,
   "metadata": {},
   "outputs": [
    {
     "name": "stdout",
     "output_type": "stream",
     "text": [
      "[16.66666667 12.5        10.          8.33333333  7.14285714  6.25\n",
      "  5.55555556  5.          4.54545455  4.16666667  3.84615385  3.57142857\n",
      "  3.33333333  3.125       2.94117647  2.77777778  2.63157895  2.5\n",
      "  2.38095238  2.27272727  2.17391304  2.08333333  2.        ]\n"
     ]
    }
   ],
   "source": [
    "COMSOL_metab_dir\n",
    "h=alpha/array_of_cells\n",
    "print(h)"
   ]
  },
  {
   "cell_type": "code",
   "execution_count": 33,
   "metadata": {},
   "outputs": [],
   "source": [
    "q_FEM_linear, phi_FEM_linear, FEM_x_linear, FEM_y_linear, FEM_x_1D_linear, FEM_y_1D_linear, x_1D_linear, y_1D_linear = extract_COMSOL_data(COMSOL_lin_dir, [1,1,1])\n",
    "\n",
    "q_FEM_metab, phi_FEM_metab, FEM_x_metab, FEM_y_metab, FEM_x_1D_metab, FEM_y_1D_metab, x_1D_metab, y_1D_metab = extract_COMSOL_data(COMSOL_metab_dir, [1,1,1])\n",
    "\n"
   ]
  },
  {
   "cell_type": "code",
   "execution_count": 34,
   "metadata": {},
   "outputs": [],
   "source": [
    "q_Multi_linear=pd.read_fwf(csv_directory + '/q_Multi_linear.csv').to_numpy()\n",
    "q_Multi_metab=pd.read_fwf(csv_directory + '/q_Multi_metab.csv').to_numpy()\n",
    "q_FV_metab=pd.read_fwf(csv_directory + '/q_FV_metab.csv').to_numpy()\n",
    "q_FV_linear=pd.read_fwf(csv_directory + '/q_FV_linear.csv').to_numpy()\n",
    "q_Multi_linear=pd.read_fwf(csv_directory + '/q_Multi_linear.csv').to_numpy()\n",
    "phi_Multi_FEM_linear=pd.read_fwf(csv_directory + '/phi_Multi_FEM_linear.csv').to_numpy()\n",
    "phi_Multi_FEM_metab=pd.read_fwf(csv_directory + '/phi_Multi_FEM_metab.csv').to_numpy()\n",
    "err_phi_Multi_linear=pd.read_fwf(csv_directory + '/err_phi_Multi_linear.csv').to_numpy()\n",
    "err_phi_Multi_metab=pd.read_fwf(csv_directory + '/err_phi_Multi_metab.csv').to_numpy()\n",
    "err_phi_FV_linear=pd.read_fwf(csv_directory + '/err_phi_FV_linear.csv').to_numpy()\n",
    "err_q_Multi_linear=pd.read_fwf(csv_directory + '/err_q_Multi_linear.csv').to_numpy()\n",
    "err_q_Multi_metab=pd.read_fwf(csv_directory + '/err_q_Multi_metab.csv').to_numpy()\n",
    "err_q_FV_metab=pd.read_fwf(csv_directory + '/err_q_FV_metab.csv').to_numpy()\n",
    "\n"
   ]
  },
  {
   "cell_type": "code",
   "execution_count": null,
   "metadata": {},
   "outputs": [],
   "source": []
  },
  {
   "cell_type": "code",
   "execution_count": 35,
   "metadata": {
    "scrolled": false
   },
   "outputs": [
    {
     "data": {
      "text/plain": [
       "<matplotlib.legend.Legend at 0x7f8d31272f40>"
      ]
     },
     "execution_count": 35,
     "metadata": {},
     "output_type": "execute_result"
    },
    {
     "data": {
      "image/png": "[encoded data removed]",
      "text/plain": [
       "<Figure size 576x576 with 1 Axes>"
      ]
     },
     "metadata": {
      "needs_background": "light"
     },
     "output_type": "display_data"
    }
   ],
   "source": [
    "plt.plot(h[indexes], err_phi_Multi_linear[indexes],'-o', label='$\\phi$-field linear')\n",
    "plt.plot(h[indexes],err_phi_Multi_metab[indexes] ,'-o', label='$\\phi$-field metab')\n",
    "plt.plot(h[indexes], err_phi_FV_linear[indexes],'-o', label='$\\phi$ FV linear')\n",
    "plt.plot(h[indexes], err_q_Multi_linear[indexes], '-o',label='q Multi linear')\n",
    "plt.plot(h[indexes], err_q_FV_metab[indexes],'-o', label='q FV metab')\n",
    "plt.xlim(max(h)+1, min(h)-1)\n",
    "plt.yscale('log')\n",
    "plt.xlabel('h/Rv')\n",
    "plt.legend()\n"
   ]
  },
  {
   "cell_type": "code",
   "execution_count": 26,
   "metadata": {},
   "outputs": [
    {
     "data": {
      "text/plain": [
       "Text(0.5, 1.0, 'Flux estimation linear model')"
      ]
     },
     "execution_count": 26,
     "metadata": {},
     "output_type": "execute_result"
    }
   ],
   "source": [
    "plt.plot(h[indexes],np.array(q_Multi_linear)[indexes],'-o' ,label='q_Multi')\n",
    "plt.legend()\n",
    "plt.xlabel('h/R')\n",
    "plt.xlim(max(h)+1, min(h)-1)\n",
    "plt.ylabel('q [$\\mu mol \\mu m^{-1} s^{-1}$]')\n",
    "plt.axhline(y = q_FEM_linear, color = 'b', linestyle = '--', label='q_FEM')\n",
    "plt.title('Flux estimation linear model')\n",
    "\n",
    "\n"
   ]
  },
  {
   "cell_type": "code",
   "execution_count": 27,
   "metadata": {},
   "outputs": [
    {
     "data": {
      "text/plain": [
       "Text(0.5, 1.0, 'Flux estimation non linear model')"
      ]
     },
     "execution_count": 27,
     "metadata": {},
     "output_type": "execute_result"
    }
   ],
   "source": [
    "plt.axhline(y = q_FEM_metab, color = 'b', linestyle = '--', label='q_FEM')\n",
    "plt.plot(h[indexes], np.array(q_Multi_metab)[indexes],'-o', label='q_Multi')\n",
    "plt.legend()\n",
    "plt.xlabel('h/Rv')\n",
    "plt.xlim(max(h)+1, min(h)-1)\n",
    "plt.ylabel('q [$\\mu mol \\mu m^{-1} s^{-1}$]')\n",
    "plt.title('Flux estimation non linear model')"
   ]
  },
  {
   "cell_type": "code",
   "execution_count": 28,
   "metadata": {},
   "outputs": [
    {
     "ename": "NameError",
     "evalue": "name 'phi_Multi_cart_linear' is not defined",
     "output_type": "error",
     "traceback": [
      "\u001b[0;31m---------------------------------------------------------------------------\u001b[0m",
      "\u001b[0;31mNameError\u001b[0m                                 Traceback (most recent call last)",
      "\u001b[0;32m<ipython-input-28-67807e77cbc3>\u001b[0m in \u001b[0;36m<module>\u001b[0;34m\u001b[0m\n\u001b[0;32m----> 1\u001b[0;31m \u001b[0mplt\u001b[0m\u001b[0;34m.\u001b[0m\u001b[0mtricontourf\u001b[0m\u001b[0;34m(\u001b[0m\u001b[0mphi_Multi_cart_linear\u001b[0m\u001b[0;34m[\u001b[0m\u001b[0;34m'x'\u001b[0m\u001b[0;34m]\u001b[0m\u001b[0;34m,\u001b[0m \u001b[0mphi_Multi_cart_linear\u001b[0m\u001b[0;34m[\u001b[0m\u001b[0;34m'y'\u001b[0m\u001b[0;34m]\u001b[0m\u001b[0;34m,\u001b[0m \u001b[0mphi_Multi_cart_linear\u001b[0m\u001b[0;34m[\u001b[0m\u001b[0;34m'phi'\u001b[0m\u001b[0;34m]\u001b[0m\u001b[0;34m,\u001b[0m \u001b[0mlevels\u001b[0m\u001b[0;34m=\u001b[0m\u001b[0;36m100\u001b[0m\u001b[0;34m)\u001b[0m\u001b[0;34m\u001b[0m\u001b[0;34m\u001b[0m\u001b[0m\n\u001b[0m\u001b[1;32m      2\u001b[0m \u001b[0mplt\u001b[0m\u001b[0;34m.\u001b[0m\u001b[0mtitle\u001b[0m\u001b[0;34m(\u001b[0m\u001b[0;34m'Contour Multi linear model'\u001b[0m\u001b[0;34m)\u001b[0m\u001b[0;34m\u001b[0m\u001b[0;34m\u001b[0m\u001b[0m\n\u001b[1;32m      3\u001b[0m \u001b[0mplt\u001b[0m\u001b[0;34m.\u001b[0m\u001b[0mcolorbar\u001b[0m\u001b[0;34m(\u001b[0m\u001b[0;34m)\u001b[0m\u001b[0;34m\u001b[0m\u001b[0;34m\u001b[0m\u001b[0m\n\u001b[1;32m      4\u001b[0m \u001b[0mplt\u001b[0m\u001b[0;34m.\u001b[0m\u001b[0mshow\u001b[0m\u001b[0;34m(\u001b[0m\u001b[0;34m)\u001b[0m\u001b[0;34m\u001b[0m\u001b[0;34m\u001b[0m\u001b[0m\n\u001b[1;32m      5\u001b[0m \u001b[0;34m\u001b[0m\u001b[0m\n",
      "\u001b[0;31mNameError\u001b[0m: name 'phi_Multi_cart_linear' is not defined"
     ]
    }
   ],
   "source": [
    "plt.tricontourf(phi_Multi_cart_linear['x'], phi_Multi_cart_linear['y'], phi_Multi_cart_linear['phi'], levels=100)\n",
    "plt.title('Contour Multi linear model')\n",
    "plt.colorbar()\n",
    "plt.show()\n",
    "\n",
    "plt.tricontourf( FEM_x_linear/1e6, FEM_y_linear/1e6,FEM_phi_linear, levels=100)\n",
    "plt.title('Contour FEM linear model')\n",
    "plt.colorbar()\n",
    "plt.show()\n",
    "\n",
    "plt.tricontourf( FEM_x_linear/1e6, FEM_y_linear/1e6,FEM_phi_linear-phi_Multi_FEM_linear['phi'], levels=100)\n",
    "plt.title('Absolute error model + reconstruction')\n",
    "plt.colorbar()\n",
    "plt.show()\n"
   ]
  },
  {
   "cell_type": "code",
   "execution_count": null,
   "metadata": {},
   "outputs": [],
   "source": [
    "plt.tricontourf(phi_Multi_cart_metab['x'], phi_Multi_cart_metab['y'], phi_Multi_cart_metab['phi'], levels=100)\n",
    "plt.title('Contour Multi metab model')\n",
    "plt.colorbar()\n",
    "plt.show()\n",
    "\n",
    "plt.tricontourf( FEM_x_metab/1e6, FEM_y_metab/1e6,FEM_phi_metab, levels=100)\n",
    "plt.title('Contour FEM metab model')\n",
    "plt.colorbar()\n",
    "plt.show()\n",
    "\n",
    "plt.tricontourf( FEM_x_metab/1e6, FEM_y_metab/1e6,FEM_phi_metab-phi_Multi_FEM_metab['phi'], levels=100)\n",
    "plt.title('Absolute error model + reconstruction')\n",
    "plt.colorbar()\n",
    "plt.show()"
   ]
  }
 ],
 "metadata": {
  "kernelspec": {
   "display_name": "Python 3",
   "language": "python",
   "name": "python3"
  },
  "language_info": {
   "codemirror_mode": {
    "name": "ipython",
    "version": 3
   },
   "file_extension": ".py",
   "mimetype": "text/x-python",
   "name": "python",
   "nbconvert_exporter": "python",
   "pygments_lexer": "ipython3",
   "version": "3.8.3"
  }
 },
 "nbformat": 4,
 "nbformat_minor": 4
}
