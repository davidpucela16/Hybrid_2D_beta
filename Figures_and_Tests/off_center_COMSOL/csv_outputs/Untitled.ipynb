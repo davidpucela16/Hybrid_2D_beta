{
 "cells": [
  {
   "cell_type": "code",
   "execution_count": 5,
   "metadata": {},
   "outputs": [],
   "source": [
    "import os\n",
    "Malphigui=1\n",
    "if Malphigui:\n",
    "    directory='/home/pdavid/Bureau/Hybrid_2D_beta/Code' #Malpighi\n",
    "    directory_script='/home/pdavid/Bureau/Hybrid_2D_beta/Figures_and_Tests/off_center_COMSOL'\n",
    "    csv_directory='/home/pdavid/Bureau/Hybrid_2D_beta/Figures_and_Tests/off_center_COMSOL/csv_outputs'\n",
    "else: #Auto_58\n",
    "    directory='/home/pdavid/Bureau/Code/Updated_BCs_2/Code/'\n",
    "    directory_script='/home/pdavid/Bureau/Code/Updated_BCs_2/Figures_and_Tests/oFff_center'\n",
    "    csv_directory='/home/pdavid/Bureau/Code/Updated_BCs_2/Figures_and_Tests/off_center/csv_outputs'\n",
    "os.chdir(directory)\n",
    "\n",
    "\n",
    "import pandas as pd\n",
    "import numpy as np \n",
    "import matplotlib.pyplot as plt"
   ]
  },
  {
   "cell_type": "code",
   "execution_count": 6,
   "metadata": {},
   "outputs": [],
   "source": [
    "no_I=pd.read_csv(csv_directory + '/no_interp.csv').to_numpy().reshape(5,5)\n",
    "I=pd.read_csv(csv_directory + '/interp.csv').to_numpy().reshape(5,5)\n",
    "FEM=pd.read_csv(csv_directory + '/q_FEM.csv').to_numpy().reshape(5,5)\n",
    "\n",
    "off=pd.read_csv(csv_directory + '/off.csv').to_numpy()\n"
   ]
  },
  {
   "cell_type": "code",
   "execution_count": 9,
   "metadata": {},
   "outputs": [],
   "source": [
    "from matplotlib import rcParams\n",
    "rcParams.update({'figure.autolayout': True})\n",
    "extent=[-0.1,0.9,-0.1,0.9]    \n",
    "    \n",
    "plt.imshow(np.abs((I-FEM)/FEM), extent=extent,origin='lower')\n",
    "plt.xticks(off)\n",
    "plt.yticks(off)\n",
    "plt.xlabel('$\\dfrac{off \\, centering_x}{h}$')\n",
    "plt.ylabel('$\\dfrac{off \\, centering_y}{h}$')\n",
    "cbar = plt.colorbar(shrink=0.6, pad=0.1)\n",
    "plt.title('Relative error $\\mathcal{I}_{\\phi}$')\n",
    "cbar.formatter.set_powerlimits((0, 0))\n",
    "plt.savefig(directory_script + '/Interpolation_matrix.pdf')\n",
    "\n",
    "\n",
    "\n"
   ]
  },
  {
   "cell_type": "code",
   "execution_count": 8,
   "metadata": {},
   "outputs": [],
   "source": [
    "plt.imshow(np.abs((no_I-FEM)/FEM), extent=extent,origin='lower')\n",
    "plt.xticks(off)\n",
    "plt.yticks(off)\n",
    "plt.xlabel('$\\dfrac{off \\, centering_x}{h}$')\n",
    "plt.ylabel('$\\dfrac{off \\, centering_y}{h}$')\n",
    "cbar = plt.colorbar(shrink=0.6, pad=0.1)\n",
    "plt.title('Relative error no interpolation')\n",
    "cbar.formatter.set_powerlimits((0, 0))\n",
    "plt.savefig(directory_script + '/No_interpolation_matrix.pdf')"
   ]
  },
  {
   "cell_type": "code",
   "execution_count": null,
   "metadata": {},
   "outputs": [],
   "source": []
  }
 ],
 "metadata": {
  "kernelspec": {
   "display_name": "Python 3",
   "language": "python",
   "name": "python3"
  },
  "language_info": {
   "codemirror_mode": {
    "name": "ipython",
    "version": 3
   },
   "file_extension": ".py",
   "mimetype": "text/x-python",
   "name": "python",
   "nbconvert_exporter": "python",
   "pygments_lexer": "ipython3",
   "version": "3.8.3"
  }
 },
 "nbformat": 4,
 "nbformat_minor": 4
}
