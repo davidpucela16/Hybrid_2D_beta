{
 "cells": [
  {
   "cell_type": "code",
   "execution_count": 1,
   "metadata": {},
   "outputs": [
    {
     "name": "stdout",
     "output_type": "stream",
     "text": [
      "IMPORTED\n",
      "MODULE\n",
      "/home/pdavid/Bureau/Code/Updated_BCs_2/Code\n"
     ]
    }
   ],
   "source": [
    "import numpy as np\n",
    "import matplotlib.pyplot as plt\n",
    "\n",
    "import os \n",
    "import pandas as pd\n",
    "import pdb\n",
    "#Define Computer\n",
    "Malphigui=0\n",
    "\n",
    "if Malphigui:\n",
    "    directory='/home/pdavid/Bureau/Updated_BCs_2/Code' #Malpighi\n",
    "    directory_script='/home/pdavid/Bureau/Updated_BCs_2/Figures_and_Tests/Multiple_sources'\n",
    "    csv_script='/home/pdavid/Bureau/Updated_BCs_2/Figures_and_Tests/Multiple_sources/csv_outputs'\n",
    "else: #Auto_58\n",
    "    directory='/home/pdavid/Bureau/Code/Updated_BCs_2/Code/'\n",
    "    os.chdir(directory)\n",
    "    directory_script='/home/pdavid/Bureau/Code/Updated_BCs_2/Figures_and_Tests/Multiple_sources'\n",
    "os.chdir(directory)\n",
    "\n",
    "from Testing import extract_COMSOL_data\n",
    "\n",
    "COMSOL_lin_dir=directory_script + '/COMSOL_output/linear'\n",
    "COMSOL_metab_dir=directory_script + '/COMSOL_output/linear'"
   ]
  },
  {
   "cell_type": "code",
   "execution_count": 2,
   "metadata": {},
   "outputs": [],
   "source": [
    "range_cells=np.array([5,7,10,15,20,30])"
   ]
  },
  {
   "cell_type": "code",
   "execution_count": 3,
   "metadata": {},
   "outputs": [
    {
     "ename": "NameError",
     "evalue": "name 'csv_script' is not defined",
     "output_type": "error",
     "traceback": [
      "\u001b[0;31m---------------------------------------------------------------------------\u001b[0m",
      "\u001b[0;31mNameError\u001b[0m                                 Traceback (most recent call last)",
      "\u001b[0;32m<ipython-input-3-5b29ed6a7c7b>\u001b[0m in \u001b[0;36m<module>\u001b[0;34m\u001b[0m\n\u001b[0;32m----> 1\u001b[0;31m \u001b[0mdf\u001b[0m\u001b[0;34m=\u001b[0m\u001b[0mpd\u001b[0m\u001b[0;34m.\u001b[0m\u001b[0mread_fwf\u001b[0m\u001b[0;34m(\u001b[0m\u001b[0mcsv_script\u001b[0m \u001b[0;34m+\u001b[0m \u001b[0;34m'/linear/cells=5/Multi_q_linear.csv'\u001b[0m\u001b[0;34m)\u001b[0m\u001b[0;34m\u001b[0m\u001b[0;34m\u001b[0m\u001b[0m\n\u001b[0m\u001b[1;32m      2\u001b[0m \u001b[0mdf_COMSOL\u001b[0m\u001b[0;34m=\u001b[0m\u001b[0mpd\u001b[0m\u001b[0;34m.\u001b[0m\u001b[0mread_fwf\u001b[0m\u001b[0;34m(\u001b[0m\u001b[0mdirectory_script\u001b[0m \u001b[0;34m+\u001b[0m \u001b[0;34m'/COMSOL_output/linear/q.txt'\u001b[0m\u001b[0;34m)\u001b[0m\u001b[0;34m.\u001b[0m\u001b[0mcolumns\u001b[0m\u001b[0;34m.\u001b[0m\u001b[0mastype\u001b[0m\u001b[0;34m(\u001b[0m\u001b[0mfloat\u001b[0m\u001b[0;34m)\u001b[0m\u001b[0;34m\u001b[0m\u001b[0;34m\u001b[0m\u001b[0m\n\u001b[1;32m      3\u001b[0m \u001b[0;34m\u001b[0m\u001b[0m\n",
      "\u001b[0;31mNameError\u001b[0m: name 'csv_script' is not defined"
     ]
    }
   ],
   "source": [
    "df=pd.read_fwf(csv_script + '/linear/cells=5/Multi_q_linear.csv')\n",
    "df_COMSOL=pd.read_fwf(directory_script + '/COMSOL_output/linear/q.txt').columns.astype(float)\n",
    "\n"
   ]
  },
  {
   "cell_type": "code",
   "execution_count": 49,
   "metadata": {},
   "outputs": [],
   "source": [
    "a=extract_COMSOL_data(COMSOL_lin_dir, [1,1,0])"
   ]
  },
  {
   "cell_type": "code",
   "execution_count": 57,
   "metadata": {},
   "outputs": [],
   "source": [
    "q_FEM_linear,FEM_phi_linear,FEM_x_linear,FEM_y_linear=extract_COMSOL_data(COMSOL_lin_dir, [1,1,0])\n",
    "q_FEM_metab,FEM_phi_metab,FEM_x_metab,FEM_y_metab=extract_COMSOL_data(COMSOL_metab_dir, [1,1,0])\n"
   ]
  },
  {
   "cell_type": "code",
   "execution_count": null,
   "metadata": {},
   "outputs": [],
   "source": [
    "for cells in range_cells:\n",
    "    Multi_linear_dir=csv_script + '/linear/cells={}'.format(cells)\n",
    "    Multi_metab_dir=csv_script + '/metab/cells={}'.format(cells) \n",
    "    \n",
    "    phi_Multi_cart_linear=pd.read_csv(Multi_linear_dir + '/phi_Multi_cart_linear.csv')\n",
    "    phi_Multi_FEM_linear=pd.read_csv(Multi_linear_dir + '/phi_Multi_FEM_linear.csv')\n",
    "    \n",
    "    phi_Multi_cart_metab=pd.read_csv(Multi_metab_dir + '/phi_Multi_cart_metab.csv')\n",
    "    phi_Multi_FEM_metab=pd.read_csv(Multi_metab_dir + '/phi_Multi_FEM_metab.csv')\n",
    "    \n",
    "    Multi_q_linear=pd.read_csv(Multi_linear_dir + '/Multi_q_linear.csv')\n",
    "    Multi_q_metab=pd.read_csv(Multi_metab_dir + '/Multi_q_metab.csv')\n",
    "    \n",
    "    \n",
    "    \n",
    "    \n",
    "    \n",
    "    "
   ]
  },
  {
   "cell_type": "code",
   "execution_count": null,
   "metadata": {},
   "outputs": [],
   "source": []
  }
 ],
 "metadata": {
  "kernelspec": {
   "display_name": "Python 3",
   "language": "python",
   "name": "python3"
  },
  "language_info": {
   "codemirror_mode": {
    "name": "ipython",
    "version": 3
   },
   "file_extension": ".py",
   "mimetype": "text/x-python",
   "name": "python",
   "nbconvert_exporter": "python",
   "pygments_lexer": "ipython3",
   "version": "3.8.5"
  }
 },
 "nbformat": 4,
 "nbformat_minor": 4
}
