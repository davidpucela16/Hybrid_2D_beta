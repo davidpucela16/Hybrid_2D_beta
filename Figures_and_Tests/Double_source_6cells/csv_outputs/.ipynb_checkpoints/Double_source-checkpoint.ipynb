{
 "cells": [
  {
   "cell_type": "code",
   "execution_count": 24,
   "metadata": {},
   "outputs": [],
   "source": [
    "import numpy as np\n",
    "import matplotlib.pyplot as plt\n",
    "\n",
    "import os \n",
    "import pandas as pd\n",
    "import pdb\n",
    "\n",
    "import matplotlib.pyplot as plt\n",
    "\n",
    "#Define Computer\n",
    "Malphigui=0\n",
    "if Malphigui:\n",
    "    directory='/home/pdavid/Bureau/Updated_BCs_2/Code' #Malpighi\n",
    "    directory_script='/home/pdavid/Bureau/Updated_BCs_2/Figures_and_Tests/Double_source_6cells'\n",
    "else: #Auto_58\n",
    "    directory='/home/pdavid/Bureau/Code/Updated_BCs_2/Code/'\n",
    "    directory_script='/home/pdavid/Bureau/Code/Updated_BCs_2/Figures_and_Tests/Double_source_6cells'\n",
    "    \n",
    "    \n",
    "os.chdir(directory)\n",
    "csv_directory=directory_script+'/csv_outputs'\n",
    "from Testing import extract_COMSOL_data, save_csv\n",
    "\n",
    "COMSOL_both_sources=directory_script + '/COMSOL_output/both_sources'\n",
    "COMSOL_source_sink=directory_script + '/COMSOL_output/source_sink'\n",
    "\n",
    "array_of_dist=np.squeeze(np.array(pd.read_csv(csv_directory + '/array_of_dist.csv').to_numpy()).astype(int))"
   ]
  },
  {
   "cell_type": "markdown",
   "metadata": {},
   "source": [
    "    Both sources, different radius, small neighbourhood"
   ]
  },
  {
   "cell_type": "code",
   "execution_count": 25,
   "metadata": {},
   "outputs": [],
   "source": [
    "dir_sim=csv_directory + '/both_sources/small'\n",
    "\n",
    "q_FEM_both_sources_small=np.zeros((0,2))\n",
    "\n",
    "for d in array_of_dist:\n",
    "    current=COMSOL_both_sources+'/d={}'.format(d)\n",
    "    #print(os.path.exists(COMSOL_both+'/d={}'.format(d)))\n",
    "    q_d=pd.read_fwf(current + '/q.txt').columns.to_numpy().astype(float)\n",
    "    q_FEM_both_sources_small=np.concatenate((q_FEM_both_sources_small, [q_d]))\n",
    "    \n",
    "\n",
    "    \n",
    "    "
   ]
  },
  {
   "cell_type": "code",
   "execution_count": 26,
   "metadata": {},
   "outputs": [],
   "source": [
    "dir_sim=csv_directory + '/both_sources/big'\n",
    "\n",
    "q_FEM_both_sources_big=np.zeros((0,2))\n",
    "\n",
    "for d in array_of_dist:\n",
    "    current=COMSOL_both_sources+'/d={}'.format(d)\n",
    "    #print(os.path.exists(COMSOL_both+'/d={}'.format(d)))\n",
    "    q_d=pd.read_fwf(current + '/q.txt').columns.to_numpy().astype(float)\n",
    "    q_FEM_both_sources_big=np.concatenate((q_FEM_both_sources_big, [q_d]))"
   ]
  },
  {
   "cell_type": "markdown",
   "metadata": {},
   "source": [
    "dir_sim=csv_directory + '/source_sink/small'\n",
    "\n",
    "q_FEM_source_sink_small=np.zeros((0,2))\n",
    "\n",
    "for d in array_of_dist:\n",
    "    current=COMSOL_source_sink+'/d={}'.format(d)\n",
    "    #print(os.path.exists(COMSOL_source_sink+'/d={}'.format(d)))\n",
    "    q_d=pd.read_fwf(current + '/q.txt').columns.to_numpy().astype(float)\n",
    "    q_FEM_source_sink_small=np.concatenate((q_FEM_source_sink_small, [q_d]))m \n",
    "    "
   ]
  },
  {
   "cell_type": "markdown",
   "metadata": {},
   "source": [
    "dir_sim=csv_directory + '/source_sink/big'\n",
    "\n",
    "q_FEM_source_sink_big=np.zeros((0,2))\n",
    "\n",
    "for d in array_of_dist:\n",
    "    current=COMSOL_source_sink+'/d={}'.format(d)\n",
    "    #print(os.path.exists(COMSOL_source_sink+'/d={}'.format(d)))\n",
    "    q_d=pd.read_fwf(current + '/q.txt').columns.to_numpy().astype(float)\n",
    "    q_FEM_source_sink_big=np.concatenate((q_FEM_source_sink_big, [q_d]))"
   ]
  },
  {
   "cell_type": "code",
   "execution_count": 27,
   "metadata": {},
   "outputs": [
    {
     "data": {
      "text/html": [
       "<div>\n",
       "<style scoped>\n",
       "    .dataframe tbody tr th:only-of-type {\n",
       "        vertical-align: middle;\n",
       "    }\n",
       "\n",
       "    .dataframe tbody tr th {\n",
       "        vertical-align: top;\n",
       "    }\n",
       "\n",
       "    .dataframe thead th {\n",
       "        text-align: right;\n",
       "    }\n",
       "</style>\n",
       "<table border=\"1\" class=\"dataframe\">\n",
       "  <thead>\n",
       "    <tr style=\"text-align: right;\">\n",
       "      <th></th>\n",
       "      <th>small</th>\n",
       "      <th>big</th>\n",
       "    </tr>\n",
       "  </thead>\n",
       "  <tbody>\n",
       "    <tr>\n",
       "      <th>0</th>\n",
       "      <td>0.034277</td>\n",
       "      <td>0.003123</td>\n",
       "    </tr>\n",
       "    <tr>\n",
       "      <th>1</th>\n",
       "      <td>0.022274</td>\n",
       "      <td>0.008315</td>\n",
       "    </tr>\n",
       "    <tr>\n",
       "      <th>2</th>\n",
       "      <td>0.037266</td>\n",
       "      <td>0.012930</td>\n",
       "    </tr>\n",
       "    <tr>\n",
       "      <th>3</th>\n",
       "      <td>0.050245</td>\n",
       "      <td>0.018208</td>\n",
       "    </tr>\n",
       "    <tr>\n",
       "      <th>4</th>\n",
       "      <td>0.056027</td>\n",
       "      <td>0.021331</td>\n",
       "    </tr>\n",
       "    <tr>\n",
       "      <th>5</th>\n",
       "      <td>0.059130</td>\n",
       "      <td>0.023440</td>\n",
       "    </tr>\n",
       "    <tr>\n",
       "      <th>6</th>\n",
       "      <td>0.061917</td>\n",
       "      <td>0.026074</td>\n",
       "    </tr>\n",
       "    <tr>\n",
       "      <th>7</th>\n",
       "      <td>0.062050</td>\n",
       "      <td>0.028184</td>\n",
       "    </tr>\n",
       "    <tr>\n",
       "      <th>8</th>\n",
       "      <td>0.061482</td>\n",
       "      <td>0.028305</td>\n",
       "    </tr>\n",
       "    <tr>\n",
       "      <th>9</th>\n",
       "      <td>0.060736</td>\n",
       "      <td>0.028299</td>\n",
       "    </tr>\n",
       "    <tr>\n",
       "      <th>10</th>\n",
       "      <td>0.059826</td>\n",
       "      <td>0.028173</td>\n",
       "    </tr>\n",
       "  </tbody>\n",
       "</table>\n",
       "</div>"
      ],
      "text/plain": [
       "       small       big\n",
       "0   0.034277  0.003123\n",
       "1   0.022274  0.008315\n",
       "2   0.037266  0.012930\n",
       "3   0.050245  0.018208\n",
       "4   0.056027  0.021331\n",
       "5   0.059130  0.023440\n",
       "6   0.061917  0.026074\n",
       "7   0.062050  0.028184\n",
       "8   0.061482  0.028305\n",
       "9   0.060736  0.028299\n",
       "10  0.059826  0.028173"
      ]
     },
     "execution_count": 27,
     "metadata": {},
     "output_type": "execute_result"
    }
   ],
   "source": [
    "dir_sim=csv_directory + '/both_sources/small'\n",
    "\n",
    "q_Multi=pd.read_csv(dir_sim + '/q_Multi.csv').to_numpy()\n",
    "q_FV=pd.read_csv(dir_sim + '/q_Multi.csv').to_numpy()\n",
    "q_FEM=pd.read_csv(dir_sim + '/q_FEM.csv').to_numpy()\n",
    "\n",
    "err_q_Multi=np.abs(q_Multi-q_FEM)/q_FEM\n",
    "err_q_FV=np.abs(q_FV-q_FEM)/q_FEM\n",
    "\n",
    "save_csv(dir_sim + '/err_q_Multi.csv', ['small', 'big'], err_q_Multi.T)\n",
    "save_csv(dir_sim + '/err_q_FV', ['small', 'big'], err_q_FV.T)"
   ]
  },
  {
   "cell_type": "code",
   "execution_count": 28,
   "metadata": {},
   "outputs": [
    {
     "data": {
      "text/plain": [
       "Text(0, 0.5, 'relative flux error')"
      ]
     },
     "execution_count": 28,
     "metadata": {},
     "output_type": "execute_result"
    },
    {
     "data": {
      "image/png": "[encoded data removed]",
      "text/plain": [
       "<Figure size 432x432 with 1 Axes>"
      ]
     },
     "metadata": {
      "needs_background": "light"
     },
     "output_type": "display_data"
    }
   ],
   "source": [
    "plt.plot(err_q_Multi[:,0], '-o',label='small')\n",
    "plt.plot(err_q_Multi[:,1],'-o', label='big')\n",
    "plt.title('small neighbourhood, both sources')\n",
    "plt.legend()\n",
    "plt.xlabel('dist/Rv')\n",
    "plt.ylabel('relative flux error')"
   ]
  },
  {
   "cell_type": "code",
   "execution_count": 29,
   "metadata": {},
   "outputs": [
    {
     "data": {
      "text/html": [
       "<div>\n",
       "<style scoped>\n",
       "    .dataframe tbody tr th:only-of-type {\n",
       "        vertical-align: middle;\n",
       "    }\n",
       "\n",
       "    .dataframe tbody tr th {\n",
       "        vertical-align: top;\n",
       "    }\n",
       "\n",
       "    .dataframe thead th {\n",
       "        text-align: right;\n",
       "    }\n",
       "</style>\n",
       "<table border=\"1\" class=\"dataframe\">\n",
       "  <thead>\n",
       "    <tr style=\"text-align: right;\">\n",
       "      <th></th>\n",
       "      <th>small</th>\n",
       "      <th>big</th>\n",
       "    </tr>\n",
       "  </thead>\n",
       "  <tbody>\n",
       "    <tr>\n",
       "      <th>0</th>\n",
       "      <td>0.036849</td>\n",
       "      <td>0.005592</td>\n",
       "    </tr>\n",
       "    <tr>\n",
       "      <th>1</th>\n",
       "      <td>0.019810</td>\n",
       "      <td>0.005842</td>\n",
       "    </tr>\n",
       "    <tr>\n",
       "      <th>2</th>\n",
       "      <td>0.034813</td>\n",
       "      <td>0.010440</td>\n",
       "    </tr>\n",
       "    <tr>\n",
       "      <th>3</th>\n",
       "      <td>0.047782</td>\n",
       "      <td>0.015681</td>\n",
       "    </tr>\n",
       "    <tr>\n",
       "      <th>4</th>\n",
       "      <td>0.053543</td>\n",
       "      <td>0.018764</td>\n",
       "    </tr>\n",
       "    <tr>\n",
       "      <th>5</th>\n",
       "      <td>0.056623</td>\n",
       "      <td>0.020831</td>\n",
       "    </tr>\n",
       "    <tr>\n",
       "      <th>6</th>\n",
       "      <td>0.059367</td>\n",
       "      <td>0.023378</td>\n",
       "    </tr>\n",
       "    <tr>\n",
       "      <th>7</th>\n",
       "      <td>0.059438</td>\n",
       "      <td>0.025307</td>\n",
       "    </tr>\n",
       "    <tr>\n",
       "      <th>8</th>\n",
       "      <td>0.058862</td>\n",
       "      <td>0.025387</td>\n",
       "    </tr>\n",
       "    <tr>\n",
       "      <th>9</th>\n",
       "      <td>0.058112</td>\n",
       "      <td>0.025342</td>\n",
       "    </tr>\n",
       "    <tr>\n",
       "      <th>10</th>\n",
       "      <td>0.057203</td>\n",
       "      <td>0.025181</td>\n",
       "    </tr>\n",
       "  </tbody>\n",
       "</table>\n",
       "</div>"
      ],
      "text/plain": [
       "       small       big\n",
       "0   0.036849  0.005592\n",
       "1   0.019810  0.005842\n",
       "2   0.034813  0.010440\n",
       "3   0.047782  0.015681\n",
       "4   0.053543  0.018764\n",
       "5   0.056623  0.020831\n",
       "6   0.059367  0.023378\n",
       "7   0.059438  0.025307\n",
       "8   0.058862  0.025387\n",
       "9   0.058112  0.025342\n",
       "10  0.057203  0.025181"
      ]
     },
     "execution_count": 29,
     "metadata": {},
     "output_type": "execute_result"
    }
   ],
   "source": [
    "dir_sim=csv_directory + '/both_sources/big'\n",
    "\n",
    "q_Multi=pd.read_csv(dir_sim + '/q_Multi.csv').to_numpy()\n",
    "q_FV=pd.read_csv(dir_sim + '/q_Multi.csv').to_numpy()\n",
    "q_FEM=pd.read_csv(dir_sim + '/q_FEM.csv').to_numpy()\n",
    "\n",
    "err_q_Multi=np.abs(q_Multi-q_FEM)/q_FEM\n",
    "err_q_FV=np.abs(q_FV-q_FEM)/q_FEM\n",
    "\n",
    "save_csv(dir_sim + '/err_q_Multi.csv', ['small', 'big'], err_q_Multi.T)\n",
    "save_csv(dir_sim + '/err_q_FV', ['small', 'big'], err_q_FV.T)"
   ]
  },
  {
   "cell_type": "code",
   "execution_count": 30,
   "metadata": {},
   "outputs": [
    {
     "data": {
      "text/plain": [
       "Text(0, 0.5, 'relative flux error')"
      ]
     },
     "execution_count": 30,
     "metadata": {},
     "output_type": "execute_result"
    },
    {
     "data": {
      "image/png": "[encoded data removed]",
      "text/plain": [
       "<Figure size 432x432 with 1 Axes>"
      ]
     },
     "metadata": {
      "needs_background": "light"
     },
     "output_type": "display_data"
    }
   ],
   "source": [
    "plt.plot(err_q_Multi[:,0], '-o',label='big')\n",
    "plt.plot(err_q_Multi[:,1],'-o', label='big')\n",
    "plt.title('big neighbourhood, both sources')\n",
    "plt.legend()\n",
    "plt.xlabel('dist/Rv')\n",
    "plt.ylabel('relative flux error')"
   ]
  },
  {
   "cell_type": "code",
   "execution_count": 31,
   "metadata": {},
   "outputs": [
    {
     "data": {
      "text/html": [
       "<div>\n",
       "<style scoped>\n",
       "    .dataframe tbody tr th:only-of-type {\n",
       "        vertical-align: middle;\n",
       "    }\n",
       "\n",
       "    .dataframe tbody tr th {\n",
       "        vertical-align: top;\n",
       "    }\n",
       "\n",
       "    .dataframe thead th {\n",
       "        text-align: right;\n",
       "    }\n",
       "</style>\n",
       "<table border=\"1\" class=\"dataframe\">\n",
       "  <thead>\n",
       "    <tr style=\"text-align: right;\">\n",
       "      <th></th>\n",
       "      <th>small</th>\n",
       "      <th>big</th>\n",
       "    </tr>\n",
       "  </thead>\n",
       "  <tbody>\n",
       "    <tr>\n",
       "      <th>0</th>\n",
       "      <td>0.025287</td>\n",
       "      <td>0.009823</td>\n",
       "    </tr>\n",
       "    <tr>\n",
       "      <th>1</th>\n",
       "      <td>0.058128</td>\n",
       "      <td>0.018966</td>\n",
       "    </tr>\n",
       "    <tr>\n",
       "      <th>2</th>\n",
       "      <td>0.079556</td>\n",
       "      <td>0.024295</td>\n",
       "    </tr>\n",
       "    <tr>\n",
       "      <th>3</th>\n",
       "      <td>0.105356</td>\n",
       "      <td>0.029256</td>\n",
       "    </tr>\n",
       "    <tr>\n",
       "      <th>4</th>\n",
       "      <td>0.120241</td>\n",
       "      <td>0.031059</td>\n",
       "    </tr>\n",
       "    <tr>\n",
       "      <th>5</th>\n",
       "      <td>0.129870</td>\n",
       "      <td>0.031610</td>\n",
       "    </tr>\n",
       "    <tr>\n",
       "      <th>6</th>\n",
       "      <td>0.141113</td>\n",
       "      <td>0.031225</td>\n",
       "    </tr>\n",
       "    <tr>\n",
       "      <th>7</th>\n",
       "      <td>0.148176</td>\n",
       "      <td>0.028599</td>\n",
       "    </tr>\n",
       "    <tr>\n",
       "      <th>8</th>\n",
       "      <td>0.147971</td>\n",
       "      <td>0.027800</td>\n",
       "    </tr>\n",
       "    <tr>\n",
       "      <th>9</th>\n",
       "      <td>0.147151</td>\n",
       "      <td>0.026971</td>\n",
       "    </tr>\n",
       "    <tr>\n",
       "      <th>10</th>\n",
       "      <td>0.145757</td>\n",
       "      <td>0.026117</td>\n",
       "    </tr>\n",
       "  </tbody>\n",
       "</table>\n",
       "</div>"
      ],
      "text/plain": [
       "       small       big\n",
       "0   0.025287  0.009823\n",
       "1   0.058128  0.018966\n",
       "2   0.079556  0.024295\n",
       "3   0.105356  0.029256\n",
       "4   0.120241  0.031059\n",
       "5   0.129870  0.031610\n",
       "6   0.141113  0.031225\n",
       "7   0.148176  0.028599\n",
       "8   0.147971  0.027800\n",
       "9   0.147151  0.026971\n",
       "10  0.145757  0.026117"
      ]
     },
     "execution_count": 31,
     "metadata": {},
     "output_type": "execute_result"
    }
   ],
   "source": [
    "dir_sim=csv_directory + '/source_sink/small'\n",
    "\n",
    "q_Multi=pd.read_csv(dir_sim + '/q_Multi.csv').to_numpy()\n",
    "q_FV=pd.read_csv(dir_sim + '/q_Multi.csv').to_numpy()\n",
    "q_FEM=pd.read_csv(dir_sim + '/q_FEM.csv').to_numpy()\n",
    "\n",
    "err_q_Multi=np.abs((q_Multi-q_FEM)/q_FEM)\n",
    "err_q_FV=np.abs((q_FV-q_FEM)/q_FEM)\n",
    "\n",
    "save_csv(dir_sim + '/err_q_Multi.csv', ['small', 'big'], err_q_Multi.T)\n",
    "save_csv(dir_sim + '/err_q_FV', ['small', 'big'], err_q_FV.T)"
   ]
  },
  {
   "cell_type": "code",
   "execution_count": 32,
   "metadata": {},
   "outputs": [
    {
     "data": {
      "text/plain": [
       "Text(0, 0.5, 'relative flux error')"
      ]
     },
     "execution_count": 32,
     "metadata": {},
     "output_type": "execute_result"
    },
    {
     "data": {
      "image/png": "[encoded data removed]",
      "text/plain": [
       "<Figure size 432x432 with 1 Axes>"
      ]
     },
     "metadata": {
      "needs_background": "light"
     },
     "output_type": "display_data"
    }
   ],
   "source": [
    "plt.plot(err_q_Multi[:,0], '-o',label='small')\n",
    "plt.plot(err_q_Multi[:,1],'-o', label='big')\n",
    "plt.title('small neighbourhood, source_sink')\n",
    "plt.legend()\n",
    "plt.xlabel('dist/Rv')\n",
    "plt.ylabel('relative flux error')"
   ]
  },
  {
   "cell_type": "code",
   "execution_count": 33,
   "metadata": {},
   "outputs": [
    {
     "data": {
      "text/html": [
       "<div>\n",
       "<style scoped>\n",
       "    .dataframe tbody tr th:only-of-type {\n",
       "        vertical-align: middle;\n",
       "    }\n",
       "\n",
       "    .dataframe tbody tr th {\n",
       "        vertical-align: top;\n",
       "    }\n",
       "\n",
       "    .dataframe thead th {\n",
       "        text-align: right;\n",
       "    }\n",
       "</style>\n",
       "<table border=\"1\" class=\"dataframe\">\n",
       "  <thead>\n",
       "    <tr style=\"text-align: right;\">\n",
       "      <th></th>\n",
       "      <th>small</th>\n",
       "      <th>big</th>\n",
       "    </tr>\n",
       "  </thead>\n",
       "  <tbody>\n",
       "    <tr>\n",
       "      <th>0</th>\n",
       "      <td>0.024058</td>\n",
       "      <td>0.010756</td>\n",
       "    </tr>\n",
       "    <tr>\n",
       "      <th>1</th>\n",
       "      <td>0.056762</td>\n",
       "      <td>0.019929</td>\n",
       "    </tr>\n",
       "    <tr>\n",
       "      <th>2</th>\n",
       "      <td>0.078078</td>\n",
       "      <td>0.025283</td>\n",
       "    </tr>\n",
       "    <tr>\n",
       "      <th>3</th>\n",
       "      <td>0.103705</td>\n",
       "      <td>0.030288</td>\n",
       "    </tr>\n",
       "    <tr>\n",
       "      <th>4</th>\n",
       "      <td>0.118463</td>\n",
       "      <td>0.032134</td>\n",
       "    </tr>\n",
       "    <tr>\n",
       "      <th>5</th>\n",
       "      <td>0.127999</td>\n",
       "      <td>0.032730</td>\n",
       "    </tr>\n",
       "    <tr>\n",
       "      <th>6</th>\n",
       "      <td>0.139132</td>\n",
       "      <td>0.032446</td>\n",
       "    </tr>\n",
       "    <tr>\n",
       "      <th>7</th>\n",
       "      <td>0.146222</td>\n",
       "      <td>0.030058</td>\n",
       "    </tr>\n",
       "    <tr>\n",
       "      <th>8</th>\n",
       "      <td>0.146069</td>\n",
       "      <td>0.029324</td>\n",
       "    </tr>\n",
       "    <tr>\n",
       "      <th>9</th>\n",
       "      <td>0.145315</td>\n",
       "      <td>0.028559</td>\n",
       "    </tr>\n",
       "    <tr>\n",
       "      <th>10</th>\n",
       "      <td>0.144003</td>\n",
       "      <td>0.027769</td>\n",
       "    </tr>\n",
       "  </tbody>\n",
       "</table>\n",
       "</div>"
      ],
      "text/plain": [
       "       small       big\n",
       "0   0.024058  0.010756\n",
       "1   0.056762  0.019929\n",
       "2   0.078078  0.025283\n",
       "3   0.103705  0.030288\n",
       "4   0.118463  0.032134\n",
       "5   0.127999  0.032730\n",
       "6   0.139132  0.032446\n",
       "7   0.146222  0.030058\n",
       "8   0.146069  0.029324\n",
       "9   0.145315  0.028559\n",
       "10  0.144003  0.027769"
      ]
     },
     "execution_count": 33,
     "metadata": {},
     "output_type": "execute_result"
    }
   ],
   "source": [
    "dir_sim=csv_directory + '/source_sink/big'\n",
    "\n",
    "q_Multi=pd.read_csv(dir_sim + '/q_Multi.csv').to_numpy()\n",
    "q_FV=pd.read_csv(dir_sim + '/q_Multi.csv').to_numpy()\n",
    "q_FEM=pd.read_csv(dir_sim + '/q_FEM.csv').to_numpy()\n",
    "\n",
    "err_q_Multi=np.abs((q_Multi-q_FEM)/q_FEM)\n",
    "err_q_FV=np.abs((q_FV-q_FEM)/q_FEM)\n",
    "\n",
    "save_csv(dir_sim + '/err_q_Multi.csv', ['small', 'big'], err_q_Multi.T)\n",
    "save_csv(dir_sim + '/err_q_FV', ['small', 'big'], err_q_FV.T)"
   ]
  },
  {
   "cell_type": "code",
   "execution_count": 34,
   "metadata": {},
   "outputs": [
    {
     "data": {
      "text/plain": [
       "Text(0, 0.5, 'relative flux error')"
      ]
     },
     "execution_count": 34,
     "metadata": {},
     "output_type": "execute_result"
    },
    {
     "data": {
      "image/png": "[encoded data removed]",
      "text/plain": [
       "<Figure size 432x432 with 1 Axes>"
      ]
     },
     "metadata": {
      "needs_background": "light"
     },
     "output_type": "display_data"
    }
   ],
   "source": [
    "plt.plot(err_q_Multi[:,0], '-o',label='big')\n",
    "plt.plot(err_q_Multi[:,1],'-o', label='big')\n",
    "plt.title('big neighbourhood, source sink ')\n",
    "plt.legend()\n",
    "plt.xlabel('dist/Rv')\n",
    "plt.ylabel('relative flux error')"
   ]
  },
  {
   "cell_type": "code",
   "execution_count": null,
   "metadata": {},
   "outputs": [],
   "source": []
  },
  {
   "cell_type": "code",
   "execution_count": null,
   "metadata": {},
   "outputs": [],
   "source": []
  },
  {
   "cell_type": "code",
   "execution_count": null,
   "metadata": {},
   "outputs": [],
   "source": []
  },
  {
   "cell_type": "code",
   "execution_count": null,
   "metadata": {},
   "outputs": [],
   "source": []
  }
 ],
 "metadata": {
  "kernelspec": {
   "display_name": "Python 3",
   "language": "python",
   "name": "python3"
  },
  "language_info": {
   "codemirror_mode": {
    "name": "ipython",
    "version": 3
   },
   "file_extension": ".py",
   "mimetype": "text/x-python",
   "name": "python",
   "nbconvert_exporter": "python",
   "pygments_lexer": "ipython3",
   "version": "3.8.5"
  }
 },
 "nbformat": 4,
 "nbformat_minor": 4
}
