{
 "cells": [
  {
   "cell_type": "code",
   "execution_count": 12,
   "metadata": {},
   "outputs": [],
   "source": [
    "import numpy as np\n",
    "import matplotlib.pyplot as plt\n",
    "\n",
    "import os \n",
    "import pandas as pd\n",
    "import pdb\n",
    "\n",
    "import matplotlib.pyplot as plt\n",
    "\n",
    "#Define Computer\n",
    "Malphigui=0\n",
    "if Malphigui:\n",
    "    directory='/home/pdavid/Bureau/Updated_BCs_2/Code' #Malpighi\n",
    "    directory_script='/home/pdavid/Bureau/Updated_BCs_2/Figures_and_Tests/Double_source'\n",
    "else: #Auto_58\n",
    "    directory='/home/pdavid/Bureau/Code/Updated_BCs_2/Code/'\n",
    "    directory_script='/home/pdavid/Bureau/Code/Updated_BCs_2/Figures_and_Tests/Double_source'\n",
    "    \n",
    "    \n",
    "os.chdir(directory)\n",
    "csv_directory=directory_script+'/csv_outputs'\n",
    "from Testing import extract_COMSOL_data, save_csv\n",
    "\n",
    "COMSOL_both_sources=directory_script + '/COMSOL_output/both_sources'\n",
    "COMSOL_source_sink=directory_script + '/COMSOL_output/source_sink'\n",
    "\n",
    "array_of_dist=np.squeeze(np.array(pd.read_csv(csv_directory + '/array_of_dist.csv').to_numpy()).astype(int))*L/alpha\n",
    "alpha,L=np.squeeze(np.array(pd.read_csv(csv_directory + '/alpha_L.csv').to_numpy()).astype(int))"
   ]
  },
  {
   "cell_type": "markdown",
   "metadata": {},
   "source": [
    "    Both sources, different radius, small neighbourhood"
   ]
  },
  {
   "cell_type": "code",
   "execution_count": 13,
   "metadata": {},
   "outputs": [],
   "source": [
    "dir_sim=csv_directory + '/both_sources/small'\n",
    "\n",
    "q_FEM_both_sources_small=np.zeros((0,2))\n",
    "\n",
    "for d in array_of_dist:\n",
    "    current=COMSOL_both_sources+'/d={}'.format(int(d*alpha/L))\n",
    "    #print(os.path.exists(COMSOL_both+'/d={}'.format(d)))\n",
    "    q_d=pd.read_fwf(current + '/q.txt').columns.to_numpy().astype(float)\n",
    "    q_FEM_both_sources_small=np.concatenate((q_FEM_both_sources_small, [q_d]))\n",
    "    \n",
    "\n",
    "    \n",
    "    "
   ]
  },
  {
   "cell_type": "code",
   "execution_count": 14,
   "metadata": {},
   "outputs": [],
   "source": [
    "dir_sim=csv_directory + '/both_sources/big'\n",
    "\n",
    "q_FEM_both_sources_big=np.zeros((0,2))\n",
    "\n",
    "for d in array_of_dist:\n",
    "    current=COMSOL_both_sources+'/d={}'.format(int(d*alpha/L))\n",
    "    #print(os.path.exists(COMSOL_both+'/d={}'.format(d*alpha/L)))\n",
    "    q_d=pd.read_fwf(current + '/q.txt').columns.to_numpy().astype(float)\n",
    "    q_FEM_both_sources_big=np.concatenate((q_FEM_both_sources_big, [q_d]))"
   ]
  },
  {
   "cell_type": "markdown",
   "metadata": {},
   "source": [
    "dir_sim=csv_directory + '/source_sink/small'\n",
    "\n",
    "q_FEM_source_sink_small=np.zeros((0,2))\n",
    "\n",
    "for d in array_of_dist:\n",
    "    current=COMSOL_source_sink+'/d={}'.format(d*alpha/L)\n",
    "    #print(os.path.exists(COMSOL_source_sink+'/d={}'.format(d*alpha/L)))\n",
    "    q_d=pd.read_fwf(current + '/q.txt').columns.to_numpy().astype(float)\n",
    "    q_FEM_source_sink_small=np.concatenate((q_FEM_source_sink_small, [q_d]))m \n",
    "    "
   ]
  },
  {
   "cell_type": "markdown",
   "metadata": {},
   "source": [
    "dir_sim=csv_directory + '/source_sink/big'\n",
    "\n",
    "q_FEM_source_sink_big=np.zeros((0,2))\n",
    "\n",
    "for d in array_of_dist:\n",
    "    current=COMSOL_source_sink+'/d={}'.format(d*alpha/L)\n",
    "    #print(os.path.exists(COMSOL_source_sink+'/d={}'.format(d*alpha/L)))\n",
    "    q_d=pd.read_fwf(current + '/q.txt').columns.to_numpy().astype(float)\n",
    "    q_FEM_source_sink_big=np.concatenate((q_FEM_source_sink_big, [q_d]))"
   ]
  },
  {
   "cell_type": "code",
   "execution_count": 15,
   "metadata": {},
   "outputs": [
    {
     "data": {
      "text/html": [
       "<div>\n",
       "<style scoped>\n",
       "    .dataframe tbody tr th:only-of-type {\n",
       "        vertical-align: middle;\n",
       "    }\n",
       "\n",
       "    .dataframe tbody tr th {\n",
       "        vertical-align: top;\n",
       "    }\n",
       "\n",
       "    .dataframe thead th {\n",
       "        text-align: right;\n",
       "    }\n",
       "</style>\n",
       "<table border=\"1\" class=\"dataframe\">\n",
       "  <thead>\n",
       "    <tr style=\"text-align: right;\">\n",
       "      <th></th>\n",
       "      <th>small</th>\n",
       "      <th>big</th>\n",
       "    </tr>\n",
       "  </thead>\n",
       "  <tbody>\n",
       "    <tr>\n",
       "      <th>0</th>\n",
       "      <td>0.033950</td>\n",
       "      <td>0.002394</td>\n",
       "    </tr>\n",
       "    <tr>\n",
       "      <th>1</th>\n",
       "      <td>0.001352</td>\n",
       "      <td>0.003511</td>\n",
       "    </tr>\n",
       "    <tr>\n",
       "      <th>2</th>\n",
       "      <td>0.002289</td>\n",
       "      <td>0.004595</td>\n",
       "    </tr>\n",
       "    <tr>\n",
       "      <th>3</th>\n",
       "      <td>0.004495</td>\n",
       "      <td>0.005520</td>\n",
       "    </tr>\n",
       "    <tr>\n",
       "      <th>4</th>\n",
       "      <td>0.005370</td>\n",
       "      <td>0.006031</td>\n",
       "    </tr>\n",
       "    <tr>\n",
       "      <th>5</th>\n",
       "      <td>0.005900</td>\n",
       "      <td>0.006413</td>\n",
       "    </tr>\n",
       "    <tr>\n",
       "      <th>6</th>\n",
       "      <td>0.006582</td>\n",
       "      <td>0.007015</td>\n",
       "    </tr>\n",
       "    <tr>\n",
       "      <th>7</th>\n",
       "      <td>0.007041</td>\n",
       "      <td>0.007509</td>\n",
       "    </tr>\n",
       "    <tr>\n",
       "      <th>8</th>\n",
       "      <td>0.023073</td>\n",
       "      <td>0.010967</td>\n",
       "    </tr>\n",
       "    <tr>\n",
       "      <th>9</th>\n",
       "      <td>0.020114</td>\n",
       "      <td>0.008366</td>\n",
       "    </tr>\n",
       "    <tr>\n",
       "      <th>10</th>\n",
       "      <td>0.017448</td>\n",
       "      <td>0.006073</td>\n",
       "    </tr>\n",
       "    <tr>\n",
       "      <th>11</th>\n",
       "      <td>0.015020</td>\n",
       "      <td>0.004049</td>\n",
       "    </tr>\n",
       "  </tbody>\n",
       "</table>\n",
       "</div>"
      ],
      "text/plain": [
       "       small       big\n",
       "0   0.033950  0.002394\n",
       "1   0.001352  0.003511\n",
       "2   0.002289  0.004595\n",
       "3   0.004495  0.005520\n",
       "4   0.005370  0.006031\n",
       "5   0.005900  0.006413\n",
       "6   0.006582  0.007015\n",
       "7   0.007041  0.007509\n",
       "8   0.023073  0.010967\n",
       "9   0.020114  0.008366\n",
       "10  0.017448  0.006073\n",
       "11  0.015020  0.004049"
      ]
     },
     "execution_count": 15,
     "metadata": {},
     "output_type": "execute_result"
    }
   ],
   "source": [
    "dir_sim=csv_directory + '/both_sources/small'\n",
    "\n",
    "q_Multi=pd.read_csv(dir_sim + '/q_Multi.csv').to_numpy()\n",
    "q_FV=pd.read_csv(dir_sim + '/q_Multi.csv').to_numpy()\n",
    "q_FEM=pd.read_csv(dir_sim + '/q_FEM.csv').to_numpy()\n",
    "\n",
    "err_q_Multi=np.abs(q_Multi-q_FEM)/q_FEM\n",
    "err_q_FV=np.abs(q_FV-q_FEM)/q_FEM\n",
    "\n",
    "save_csv(dir_sim + '/err_q_Multi.csv', ['small', 'big'], err_q_Multi.T)\n",
    "save_csv(dir_sim + '/err_q_FV', ['small', 'big'], err_q_FV.T)"
   ]
  },
  {
   "cell_type": "code",
   "execution_count": 16,
   "metadata": {},
   "outputs": [
    {
     "data": {
      "text/plain": [
       "Text(0, 0.5, 'relative flux error')"
      ]
     },
     "execution_count": 16,
     "metadata": {},
     "output_type": "execute_result"
    },
    {
     "data": {
      "image/png": "[encoded data removed]",
      "text/plain": [
       "<Figure size 432x432 with 1 Axes>"
      ]
     },
     "metadata": {
      "needs_background": "light"
     },
     "output_type": "display_data"
    }
   ],
   "source": [
    "plt.plot(err_q_Multi[:,0], '-o',label='small')\n",
    "plt.plot(err_q_Multi[:,1],'-o', label='big')\n",
    "plt.title('small neighbourhood, both sources')\n",
    "plt.legend()\n",
    "plt.xlabel('dist/Rv')\n",
    "plt.ylabel('relative flux error')"
   ]
  },
  {
   "cell_type": "code",
   "execution_count": 17,
   "metadata": {},
   "outputs": [
    {
     "data": {
      "text/html": [
       "<div>\n",
       "<style scoped>\n",
       "    .dataframe tbody tr th:only-of-type {\n",
       "        vertical-align: middle;\n",
       "    }\n",
       "\n",
       "    .dataframe tbody tr th {\n",
       "        vertical-align: top;\n",
       "    }\n",
       "\n",
       "    .dataframe thead th {\n",
       "        text-align: right;\n",
       "    }\n",
       "</style>\n",
       "<table border=\"1\" class=\"dataframe\">\n",
       "  <thead>\n",
       "    <tr style=\"text-align: right;\">\n",
       "      <th></th>\n",
       "      <th>small</th>\n",
       "      <th>big</th>\n",
       "    </tr>\n",
       "  </thead>\n",
       "  <tbody>\n",
       "    <tr>\n",
       "      <th>0</th>\n",
       "      <td>0.036655</td>\n",
       "      <td>0.005028</td>\n",
       "    </tr>\n",
       "    <tr>\n",
       "      <th>1</th>\n",
       "      <td>0.004031</td>\n",
       "      <td>0.000826</td>\n",
       "    </tr>\n",
       "    <tr>\n",
       "      <th>2</th>\n",
       "      <td>0.000420</td>\n",
       "      <td>0.001863</td>\n",
       "    </tr>\n",
       "    <tr>\n",
       "      <th>3</th>\n",
       "      <td>0.001738</td>\n",
       "      <td>0.002712</td>\n",
       "    </tr>\n",
       "    <tr>\n",
       "      <th>4</th>\n",
       "      <td>0.002577</td>\n",
       "      <td>0.003154</td>\n",
       "    </tr>\n",
       "    <tr>\n",
       "      <th>5</th>\n",
       "      <td>0.003077</td>\n",
       "      <td>0.003465</td>\n",
       "    </tr>\n",
       "    <tr>\n",
       "      <th>6</th>\n",
       "      <td>0.003692</td>\n",
       "      <td>0.003892</td>\n",
       "    </tr>\n",
       "    <tr>\n",
       "      <th>7</th>\n",
       "      <td>0.004044</td>\n",
       "      <td>0.004135</td>\n",
       "    </tr>\n",
       "    <tr>\n",
       "      <th>8</th>\n",
       "      <td>0.004966</td>\n",
       "      <td>0.004880</td>\n",
       "    </tr>\n",
       "    <tr>\n",
       "      <th>9</th>\n",
       "      <td>0.004971</td>\n",
       "      <td>0.004850</td>\n",
       "    </tr>\n",
       "    <tr>\n",
       "      <th>10</th>\n",
       "      <td>0.004931</td>\n",
       "      <td>0.004780</td>\n",
       "    </tr>\n",
       "    <tr>\n",
       "      <th>11</th>\n",
       "      <td>0.004847</td>\n",
       "      <td>0.004670</td>\n",
       "    </tr>\n",
       "  </tbody>\n",
       "</table>\n",
       "</div>"
      ],
      "text/plain": [
       "       small       big\n",
       "0   0.036655  0.005028\n",
       "1   0.004031  0.000826\n",
       "2   0.000420  0.001863\n",
       "3   0.001738  0.002712\n",
       "4   0.002577  0.003154\n",
       "5   0.003077  0.003465\n",
       "6   0.003692  0.003892\n",
       "7   0.004044  0.004135\n",
       "8   0.004966  0.004880\n",
       "9   0.004971  0.004850\n",
       "10  0.004931  0.004780\n",
       "11  0.004847  0.004670"
      ]
     },
     "execution_count": 17,
     "metadata": {},
     "output_type": "execute_result"
    }
   ],
   "source": [
    "dir_sim=csv_directory + '/both_sources/big'\n",
    "\n",
    "q_Multi=pd.read_csv(dir_sim + '/q_Multi.csv').to_numpy()\n",
    "q_FV=pd.read_csv(dir_sim + '/q_Multi.csv').to_numpy()\n",
    "q_FEM=pd.read_csv(dir_sim + '/q_FEM.csv').to_numpy()\n",
    "\n",
    "err_q_Multi=np.abs(q_Multi-q_FEM)/q_FEM\n",
    "err_q_FV=np.abs(q_FV-q_FEM)/q_FEM\n",
    "\n",
    "save_csv(dir_sim + '/err_q_Multi.csv', ['small', 'big'], err_q_Multi.T)\n",
    "save_csv(dir_sim + '/err_q_FV', ['small', 'big'], err_q_FV.T)"
   ]
  },
  {
   "cell_type": "code",
   "execution_count": 18,
   "metadata": {},
   "outputs": [
    {
     "data": {
      "text/plain": [
       "Text(0, 0.5, 'relative flux error')"
      ]
     },
     "execution_count": 18,
     "metadata": {},
     "output_type": "execute_result"
    },
    {
     "data": {
      "image/png": "[encoded data removed]",
      "text/plain": [
       "<Figure size 432x432 with 1 Axes>"
      ]
     },
     "metadata": {
      "needs_background": "light"
     },
     "output_type": "display_data"
    }
   ],
   "source": [
    "plt.plot(err_q_Multi[:,0], '-o',label='big')\n",
    "plt.plot(err_q_Multi[:,1],'-o', label='big')\n",
    "plt.title('big neighbourhood, both sources')\n",
    "plt.legend()\n",
    "plt.xlabel('dist/Rv')\n",
    "plt.ylabel('relative flux error')"
   ]
  },
  {
   "cell_type": "code",
   "execution_count": 19,
   "metadata": {},
   "outputs": [
    {
     "data": {
      "text/html": [
       "<div>\n",
       "<style scoped>\n",
       "    .dataframe tbody tr th:only-of-type {\n",
       "        vertical-align: middle;\n",
       "    }\n",
       "\n",
       "    .dataframe tbody tr th {\n",
       "        vertical-align: top;\n",
       "    }\n",
       "\n",
       "    .dataframe thead th {\n",
       "        text-align: right;\n",
       "    }\n",
       "</style>\n",
       "<table border=\"1\" class=\"dataframe\">\n",
       "  <thead>\n",
       "    <tr style=\"text-align: right;\">\n",
       "      <th></th>\n",
       "      <th>small</th>\n",
       "      <th>big</th>\n",
       "    </tr>\n",
       "  </thead>\n",
       "  <tbody>\n",
       "    <tr>\n",
       "      <th>0</th>\n",
       "      <td>0.025361</td>\n",
       "      <td>0.009483</td>\n",
       "    </tr>\n",
       "    <tr>\n",
       "      <th>1</th>\n",
       "      <td>0.011327</td>\n",
       "      <td>0.001968</td>\n",
       "    </tr>\n",
       "    <tr>\n",
       "      <th>2</th>\n",
       "      <td>0.007255</td>\n",
       "      <td>0.000243</td>\n",
       "    </tr>\n",
       "    <tr>\n",
       "      <th>3</th>\n",
       "      <td>0.005110</td>\n",
       "      <td>0.001736</td>\n",
       "    </tr>\n",
       "    <tr>\n",
       "      <th>4</th>\n",
       "      <td>0.004717</td>\n",
       "      <td>0.002329</td>\n",
       "    </tr>\n",
       "    <tr>\n",
       "      <th>5</th>\n",
       "      <td>0.004717</td>\n",
       "      <td>0.002694</td>\n",
       "    </tr>\n",
       "    <tr>\n",
       "      <th>6</th>\n",
       "      <td>0.004939</td>\n",
       "      <td>0.003223</td>\n",
       "    </tr>\n",
       "    <tr>\n",
       "      <th>7</th>\n",
       "      <td>0.005104</td>\n",
       "      <td>0.003681</td>\n",
       "    </tr>\n",
       "    <tr>\n",
       "      <th>8</th>\n",
       "      <td>0.021240</td>\n",
       "      <td>0.011578</td>\n",
       "    </tr>\n",
       "    <tr>\n",
       "      <th>9</th>\n",
       "      <td>0.018702</td>\n",
       "      <td>0.010234</td>\n",
       "    </tr>\n",
       "    <tr>\n",
       "      <th>10</th>\n",
       "      <td>0.016190</td>\n",
       "      <td>0.009063</td>\n",
       "    </tr>\n",
       "    <tr>\n",
       "      <th>11</th>\n",
       "      <td>0.013711</td>\n",
       "      <td>0.008029</td>\n",
       "    </tr>\n",
       "  </tbody>\n",
       "</table>\n",
       "</div>"
      ],
      "text/plain": [
       "       small       big\n",
       "0   0.025361  0.009483\n",
       "1   0.011327  0.001968\n",
       "2   0.007255  0.000243\n",
       "3   0.005110  0.001736\n",
       "4   0.004717  0.002329\n",
       "5   0.004717  0.002694\n",
       "6   0.004939  0.003223\n",
       "7   0.005104  0.003681\n",
       "8   0.021240  0.011578\n",
       "9   0.018702  0.010234\n",
       "10  0.016190  0.009063\n",
       "11  0.013711  0.008029"
      ]
     },
     "execution_count": 19,
     "metadata": {},
     "output_type": "execute_result"
    }
   ],
   "source": [
    "dir_sim=csv_directory + '/source_sink/small'\n",
    "\n",
    "q_Multi=pd.read_csv(dir_sim + '/q_Multi.csv').to_numpy()\n",
    "q_FV=pd.read_csv(dir_sim + '/q_Multi.csv').to_numpy()\n",
    "q_FEM=pd.read_csv(dir_sim + '/q_FEM.csv').to_numpy()\n",
    "\n",
    "err_q_Multi=np.abs((q_Multi-q_FEM)/q_FEM)\n",
    "err_q_FV=np.abs((q_FV-q_FEM)/q_FEM)\n",
    "\n",
    "save_csv(dir_sim + '/err_q_Multi.csv', ['small', 'big'], err_q_Multi.T)\n",
    "save_csv(dir_sim + '/err_q_FV', ['small', 'big'], err_q_FV.T)"
   ]
  },
  {
   "cell_type": "code",
   "execution_count": 20,
   "metadata": {},
   "outputs": [
    {
     "data": {
      "text/plain": [
       "Text(0, 0.5, 'relative flux error')"
      ]
     },
     "execution_count": 20,
     "metadata": {},
     "output_type": "execute_result"
    },
    {
     "data": {
      "image/png": "[encoded data removed]",
      "text/plain": [
       "<Figure size 432x432 with 1 Axes>"
      ]
     },
     "metadata": {
      "needs_background": "light"
     },
     "output_type": "display_data"
    }
   ],
   "source": [
    "plt.plot(err_q_Multi[:,0], '-o',label='small')\n",
    "plt.plot(err_q_Multi[:,1],'-o', label='big')\n",
    "plt.title('small neighbourhood, source_sink')\n",
    "plt.legend()\n",
    "plt.xlabel('dist/Rv')\n",
    "plt.ylabel('relative flux error')"
   ]
  },
  {
   "cell_type": "code",
   "execution_count": 21,
   "metadata": {},
   "outputs": [
    {
     "data": {
      "text/html": [
       "<div>\n",
       "<style scoped>\n",
       "    .dataframe tbody tr th:only-of-type {\n",
       "        vertical-align: middle;\n",
       "    }\n",
       "\n",
       "    .dataframe tbody tr th {\n",
       "        vertical-align: top;\n",
       "    }\n",
       "\n",
       "    .dataframe thead th {\n",
       "        text-align: right;\n",
       "    }\n",
       "</style>\n",
       "<table border=\"1\" class=\"dataframe\">\n",
       "  <thead>\n",
       "    <tr style=\"text-align: right;\">\n",
       "      <th></th>\n",
       "      <th>small</th>\n",
       "      <th>big</th>\n",
       "    </tr>\n",
       "  </thead>\n",
       "  <tbody>\n",
       "    <tr>\n",
       "      <th>0</th>\n",
       "      <td>0.024139</td>\n",
       "      <td>0.010524</td>\n",
       "    </tr>\n",
       "    <tr>\n",
       "      <th>1</th>\n",
       "      <td>0.009950</td>\n",
       "      <td>0.003061</td>\n",
       "    </tr>\n",
       "    <tr>\n",
       "      <th>2</th>\n",
       "      <td>0.005765</td>\n",
       "      <td>0.000894</td>\n",
       "    </tr>\n",
       "    <tr>\n",
       "      <th>3</th>\n",
       "      <td>0.003468</td>\n",
       "      <td>0.000518</td>\n",
       "    </tr>\n",
       "    <tr>\n",
       "      <th>4</th>\n",
       "      <td>0.002989</td>\n",
       "      <td>0.001031</td>\n",
       "    </tr>\n",
       "    <tr>\n",
       "      <th>5</th>\n",
       "      <td>0.002948</td>\n",
       "      <td>0.001308</td>\n",
       "    </tr>\n",
       "    <tr>\n",
       "      <th>6</th>\n",
       "      <td>0.003192</td>\n",
       "      <td>0.001622</td>\n",
       "    </tr>\n",
       "    <tr>\n",
       "      <th>7</th>\n",
       "      <td>0.003480</td>\n",
       "      <td>0.001790</td>\n",
       "    </tr>\n",
       "    <tr>\n",
       "      <th>8</th>\n",
       "      <td>0.004615</td>\n",
       "      <td>0.002024</td>\n",
       "    </tr>\n",
       "    <tr>\n",
       "      <th>9</th>\n",
       "      <td>0.004667</td>\n",
       "      <td>0.002028</td>\n",
       "    </tr>\n",
       "    <tr>\n",
       "      <th>10</th>\n",
       "      <td>0.004670</td>\n",
       "      <td>0.002016</td>\n",
       "    </tr>\n",
       "    <tr>\n",
       "      <th>11</th>\n",
       "      <td>0.004619</td>\n",
       "      <td>0.001987</td>\n",
       "    </tr>\n",
       "  </tbody>\n",
       "</table>\n",
       "</div>"
      ],
      "text/plain": [
       "       small       big\n",
       "0   0.024139  0.010524\n",
       "1   0.009950  0.003061\n",
       "2   0.005765  0.000894\n",
       "3   0.003468  0.000518\n",
       "4   0.002989  0.001031\n",
       "5   0.002948  0.001308\n",
       "6   0.003192  0.001622\n",
       "7   0.003480  0.001790\n",
       "8   0.004615  0.002024\n",
       "9   0.004667  0.002028\n",
       "10  0.004670  0.002016\n",
       "11  0.004619  0.001987"
      ]
     },
     "execution_count": 21,
     "metadata": {},
     "output_type": "execute_result"
    }
   ],
   "source": [
    "dir_sim=csv_directory + '/source_sink/big'\n",
    "\n",
    "q_Multi=pd.read_csv(dir_sim + '/q_Multi.csv').to_numpy()\n",
    "q_FV=pd.read_csv(dir_sim + '/q_Multi.csv').to_numpy()\n",
    "q_FEM=pd.read_csv(dir_sim + '/q_FEM.csv').to_numpy()\n",
    "\n",
    "err_q_Multi=np.abs((q_Multi-q_FEM)/q_FEM)\n",
    "err_q_FV=np.abs((q_FV-q_FEM)/q_FEM)\n",
    "\n",
    "save_csv(dir_sim + '/err_q_Multi.csv', ['small', 'big'], err_q_Multi.T)\n",
    "save_csv(dir_sim + '/err_q_FV', ['small', 'big'], err_q_FV.T)"
   ]
  },
  {
   "cell_type": "code",
   "execution_count": 22,
   "metadata": {},
   "outputs": [
    {
     "data": {
      "text/plain": [
       "Text(0, 0.5, 'relative flux error')"
      ]
     },
     "execution_count": 22,
     "metadata": {},
     "output_type": "execute_result"
    },
    {
     "data": {
      "image/png": "[encoded data removed]",
      "text/plain": [
       "<Figure size 432x432 with 1 Axes>"
      ]
     },
     "metadata": {
      "needs_background": "light"
     },
     "output_type": "display_data"
    }
   ],
   "source": [
    "plt.plot(err_q_Multi[:,0], '-o',label='big')\n",
    "plt.plot(err_q_Multi[:,1],'-o', label='big')\n",
    "plt.title('big neighbourhood, source sink ')\n",
    "plt.legend()\n",
    "plt.xlabel('dist/Rv')\n",
    "plt.ylabel('relative flux error')"
   ]
  },
  {
   "cell_type": "code",
   "execution_count": null,
   "metadata": {},
   "outputs": [],
   "source": []
  },
  {
   "cell_type": "code",
   "execution_count": null,
   "metadata": {},
   "outputs": [],
   "source": []
  },
  {
   "cell_type": "code",
   "execution_count": null,
   "metadata": {},
   "outputs": [],
   "source": []
  },
  {
   "cell_type": "code",
   "execution_count": null,
   "metadata": {},
   "outputs": [],
   "source": []
  }
 ],
 "metadata": {
  "kernelspec": {
   "display_name": "Python 3",
   "language": "python",
   "name": "python3"
  },
  "language_info": {
   "codemirror_mode": {
    "name": "ipython",
    "version": 3
   },
   "file_extension": ".py",
   "mimetype": "text/x-python",
   "name": "python",
   "nbconvert_exporter": "python",
   "pygments_lexer": "ipython3",
   "version": "3.8.5"
  }
 },
 "nbformat": 4,
 "nbformat_minor": 4
}
